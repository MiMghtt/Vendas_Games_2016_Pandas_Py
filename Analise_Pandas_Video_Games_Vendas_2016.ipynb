{
  "nbformat": 4,
  "nbformat_minor": 0,
  "metadata": {
    "colab": {
      "provenance": [],
      "authorship_tag": "ABX9TyNplAkRl1m/6LU1SGkiANEf",
      "include_colab_link": true
    },
    "kernelspec": {
      "name": "python3",
      "display_name": "Python 3"
    },
    "language_info": {
      "name": "python"
    }
  },
  "cells": [
    {
      "cell_type": "markdown",
      "metadata": {
        "id": "view-in-github",
        "colab_type": "text"
      },
      "source": [
        "<a href=\"https://colab.research.google.com/github/MiMghtt/Vendas_Games_2016_Pandas_Py/blob/main/Analise_Pandas_Video_Games_Vendas_2016.ipynb\" target=\"_parent\"><img src=\"https://colab.research.google.com/assets/colab-badge.svg\" alt=\"Open In Colab\"/></a>"
      ]
    },
    {
      "cell_type": "markdown",
      "source": [
        "#Instalar biblioteca de integração ao GCP, MongoDB e Pandera"
      ],
      "metadata": {
        "id": "DvY2Q-2ckhwR"
      }
    },
    {
      "cell_type": "code",
      "execution_count": null,
      "metadata": {
        "id": "-Bq-BBA_ZsbM"
      },
      "outputs": [],
      "source": [
        "pip install gcsfs"
      ]
    },
    {
      "cell_type": "code",
      "source": [
        "pip install pandera"
      ],
      "metadata": {
        "id": "wYDaMRf6Z2NJ"
      },
      "execution_count": null,
      "outputs": []
    },
    {
      "cell_type": "code",
      "source": [
        "pip install pymongo"
      ],
      "metadata": {
        "id": "NZkNrQfi3QOZ"
      },
      "execution_count": null,
      "outputs": []
    },
    {
      "cell_type": "markdown",
      "source": [
        "#Importar módulos"
      ],
      "metadata": {
        "id": "Kg7lHwSMkqYq"
      }
    },
    {
      "cell_type": "code",
      "source": [
        "import pandas as pd\n",
        "import os\n",
        "import numpy as np\n",
        "from google.cloud import storage\n",
        "import pandera as pa\n",
        "import matplotlib.pyplot as plt\n",
        "import pymongo\n",
        "from pymongo import MongoClient"
      ],
      "metadata": {
        "id": "tJyrrPBNm2RW"
      },
      "execution_count": null,
      "outputs": []
    },
    {
      "cell_type": "markdown",
      "source": [
        "#Configurar chave GCP"
      ],
      "metadata": {
        "id": "5TxsOzAwkxgQ"
      }
    },
    {
      "cell_type": "code",
      "source": [
        "serviceAccount= '/content/skilled-tuner-377718-395f300c8996.json'\n",
        "os.environ['GOOGLE_APPLICATION_CREDENTIALS'] = serviceAccount"
      ],
      "metadata": {
        "id": "1ck1lpdTnGc5"
      },
      "execution_count": null,
      "outputs": []
    },
    {
      "cell_type": "code",
      "source": [
        "#Configurações Google Cloud Storage\n",
        "client = storage.Client()\n",
        "bucket = client.get_bucket('michelmarighetti')\n",
        "bucket.blob('Video_Games_Sales_as_at_22_Dec_2016.csv')\n",
        "path = 'gs://michelmarighetti/brutos/Video_Games_Sales_as_at_22_Dec_2016.csv'"
      ],
      "metadata": {
        "id": "2GhdFsrFn4KO"
      },
      "execution_count": null,
      "outputs": []
    },
    {
      "cell_type": "markdown",
      "source": [
        "#Configurando chave MongoDB"
      ],
      "metadata": {
        "id": "g9b6Z-KU3e9-"
      }
    },
    {
      "cell_type": "code",
      "source": [
        "# Configurando integração do MongoDB com o Colab\n",
        "uri = \"mongodb+srv://clusteraula0.on8lj7t.mongodb.net/?authSource=%24external&authMechanism=MONGODB-X509&retryWrites=true&w=majority\"\n",
        "client = MongoClient(uri,\n",
        "                     tls=True,\n",
        "                     tlsCertificateKeyFile='/content/X509-cert-854953342432239118.pem',\n",
        "                     )\n",
        "\n",
        "\n"
      ],
      "metadata": {
        "id": "BJ_Y9Nci3c6x"
      },
      "execution_count": null,
      "outputs": []
    },
    {
      "cell_type": "code",
      "source": [
        "df = pd.read_csv(path, sep=',')"
      ],
      "metadata": {
        "id": "DFfZowm5oCpr"
      },
      "execution_count": null,
      "outputs": []
    },
    {
      "cell_type": "code",
      "source": [
        "df"
      ],
      "metadata": {
        "colab": {
          "base_uri": "https://localhost:8080/",
          "height": 661
        },
        "id": "xPkxqR1AoPN-",
        "outputId": "9630ab4d-56a1-4591-df40-0afa474dc474"
      },
      "execution_count": null,
      "outputs": [
        {
          "output_type": "execute_result",
          "data": {
            "text/plain": [
              "                                Name Platform  Year_of_Release         Genre  \\\n",
              "0                         Wii Sports      Wii           2006.0        Sports   \n",
              "1                  Super Mario Bros.      NES           1985.0      Platform   \n",
              "2                     Mario Kart Wii      Wii           2008.0        Racing   \n",
              "3                  Wii Sports Resort      Wii           2009.0        Sports   \n",
              "4           Pokemon Red/Pokemon Blue       GB           1996.0  Role-Playing   \n",
              "...                              ...      ...              ...           ...   \n",
              "16714  Samurai Warriors: Sanada Maru      PS3           2016.0        Action   \n",
              "16715               LMA Manager 2007     X360           2006.0        Sports   \n",
              "16716        Haitaka no Psychedelica      PSV           2016.0     Adventure   \n",
              "16717               Spirits & Spells      GBA           2003.0      Platform   \n",
              "16718            Winning Post 8 2016      PSV           2016.0    Simulation   \n",
              "\n",
              "          Publisher  NA_Sales  EU_Sales  JP_Sales  Other_Sales  Global_Sales  \\\n",
              "0          Nintendo     41.36     28.96      3.77         8.45         82.53   \n",
              "1          Nintendo     29.08      3.58      6.81         0.77         40.24   \n",
              "2          Nintendo     15.68     12.76      3.79         3.29         35.52   \n",
              "3          Nintendo     15.61     10.93      3.28         2.95         32.77   \n",
              "4          Nintendo     11.27      8.89     10.22         1.00         31.37   \n",
              "...             ...       ...       ...       ...          ...           ...   \n",
              "16714    Tecmo Koei      0.00      0.00      0.01         0.00          0.01   \n",
              "16715   Codemasters      0.00      0.01      0.00         0.00          0.01   \n",
              "16716  Idea Factory      0.00      0.00      0.01         0.00          0.01   \n",
              "16717       Wanadoo      0.01      0.00      0.00         0.00          0.01   \n",
              "16718    Tecmo Koei      0.00      0.00      0.01         0.00          0.01   \n",
              "\n",
              "       Critic_Score  Critic_Count User_Score  User_Count Developer Rating  \n",
              "0              76.0          51.0          8       322.0  Nintendo      E  \n",
              "1               NaN           NaN        NaN         NaN       NaN    NaN  \n",
              "2              82.0          73.0        8.3       709.0  Nintendo      E  \n",
              "3              80.0          73.0          8       192.0  Nintendo      E  \n",
              "4               NaN           NaN        NaN         NaN       NaN    NaN  \n",
              "...             ...           ...        ...         ...       ...    ...  \n",
              "16714           NaN           NaN        NaN         NaN       NaN    NaN  \n",
              "16715           NaN           NaN        NaN         NaN       NaN    NaN  \n",
              "16716           NaN           NaN        NaN         NaN       NaN    NaN  \n",
              "16717           NaN           NaN        NaN         NaN       NaN    NaN  \n",
              "16718           NaN           NaN        NaN         NaN       NaN    NaN  \n",
              "\n",
              "[16719 rows x 16 columns]"
            ],
            "text/html": [
              "\n",
              "  <div id=\"df-14d4fe63-f6ce-4e61-ba74-c1a784165a33\">\n",
              "    <div class=\"colab-df-container\">\n",
              "      <div>\n",
              "<style scoped>\n",
              "    .dataframe tbody tr th:only-of-type {\n",
              "        vertical-align: middle;\n",
              "    }\n",
              "\n",
              "    .dataframe tbody tr th {\n",
              "        vertical-align: top;\n",
              "    }\n",
              "\n",
              "    .dataframe thead th {\n",
              "        text-align: right;\n",
              "    }\n",
              "</style>\n",
              "<table border=\"1\" class=\"dataframe\">\n",
              "  <thead>\n",
              "    <tr style=\"text-align: right;\">\n",
              "      <th></th>\n",
              "      <th>Name</th>\n",
              "      <th>Platform</th>\n",
              "      <th>Year_of_Release</th>\n",
              "      <th>Genre</th>\n",
              "      <th>Publisher</th>\n",
              "      <th>NA_Sales</th>\n",
              "      <th>EU_Sales</th>\n",
              "      <th>JP_Sales</th>\n",
              "      <th>Other_Sales</th>\n",
              "      <th>Global_Sales</th>\n",
              "      <th>Critic_Score</th>\n",
              "      <th>Critic_Count</th>\n",
              "      <th>User_Score</th>\n",
              "      <th>User_Count</th>\n",
              "      <th>Developer</th>\n",
              "      <th>Rating</th>\n",
              "    </tr>\n",
              "  </thead>\n",
              "  <tbody>\n",
              "    <tr>\n",
              "      <th>0</th>\n",
              "      <td>Wii Sports</td>\n",
              "      <td>Wii</td>\n",
              "      <td>2006.0</td>\n",
              "      <td>Sports</td>\n",
              "      <td>Nintendo</td>\n",
              "      <td>41.36</td>\n",
              "      <td>28.96</td>\n",
              "      <td>3.77</td>\n",
              "      <td>8.45</td>\n",
              "      <td>82.53</td>\n",
              "      <td>76.0</td>\n",
              "      <td>51.0</td>\n",
              "      <td>8</td>\n",
              "      <td>322.0</td>\n",
              "      <td>Nintendo</td>\n",
              "      <td>E</td>\n",
              "    </tr>\n",
              "    <tr>\n",
              "      <th>1</th>\n",
              "      <td>Super Mario Bros.</td>\n",
              "      <td>NES</td>\n",
              "      <td>1985.0</td>\n",
              "      <td>Platform</td>\n",
              "      <td>Nintendo</td>\n",
              "      <td>29.08</td>\n",
              "      <td>3.58</td>\n",
              "      <td>6.81</td>\n",
              "      <td>0.77</td>\n",
              "      <td>40.24</td>\n",
              "      <td>NaN</td>\n",
              "      <td>NaN</td>\n",
              "      <td>NaN</td>\n",
              "      <td>NaN</td>\n",
              "      <td>NaN</td>\n",
              "      <td>NaN</td>\n",
              "    </tr>\n",
              "    <tr>\n",
              "      <th>2</th>\n",
              "      <td>Mario Kart Wii</td>\n",
              "      <td>Wii</td>\n",
              "      <td>2008.0</td>\n",
              "      <td>Racing</td>\n",
              "      <td>Nintendo</td>\n",
              "      <td>15.68</td>\n",
              "      <td>12.76</td>\n",
              "      <td>3.79</td>\n",
              "      <td>3.29</td>\n",
              "      <td>35.52</td>\n",
              "      <td>82.0</td>\n",
              "      <td>73.0</td>\n",
              "      <td>8.3</td>\n",
              "      <td>709.0</td>\n",
              "      <td>Nintendo</td>\n",
              "      <td>E</td>\n",
              "    </tr>\n",
              "    <tr>\n",
              "      <th>3</th>\n",
              "      <td>Wii Sports Resort</td>\n",
              "      <td>Wii</td>\n",
              "      <td>2009.0</td>\n",
              "      <td>Sports</td>\n",
              "      <td>Nintendo</td>\n",
              "      <td>15.61</td>\n",
              "      <td>10.93</td>\n",
              "      <td>3.28</td>\n",
              "      <td>2.95</td>\n",
              "      <td>32.77</td>\n",
              "      <td>80.0</td>\n",
              "      <td>73.0</td>\n",
              "      <td>8</td>\n",
              "      <td>192.0</td>\n",
              "      <td>Nintendo</td>\n",
              "      <td>E</td>\n",
              "    </tr>\n",
              "    <tr>\n",
              "      <th>4</th>\n",
              "      <td>Pokemon Red/Pokemon Blue</td>\n",
              "      <td>GB</td>\n",
              "      <td>1996.0</td>\n",
              "      <td>Role-Playing</td>\n",
              "      <td>Nintendo</td>\n",
              "      <td>11.27</td>\n",
              "      <td>8.89</td>\n",
              "      <td>10.22</td>\n",
              "      <td>1.00</td>\n",
              "      <td>31.37</td>\n",
              "      <td>NaN</td>\n",
              "      <td>NaN</td>\n",
              "      <td>NaN</td>\n",
              "      <td>NaN</td>\n",
              "      <td>NaN</td>\n",
              "      <td>NaN</td>\n",
              "    </tr>\n",
              "    <tr>\n",
              "      <th>...</th>\n",
              "      <td>...</td>\n",
              "      <td>...</td>\n",
              "      <td>...</td>\n",
              "      <td>...</td>\n",
              "      <td>...</td>\n",
              "      <td>...</td>\n",
              "      <td>...</td>\n",
              "      <td>...</td>\n",
              "      <td>...</td>\n",
              "      <td>...</td>\n",
              "      <td>...</td>\n",
              "      <td>...</td>\n",
              "      <td>...</td>\n",
              "      <td>...</td>\n",
              "      <td>...</td>\n",
              "      <td>...</td>\n",
              "    </tr>\n",
              "    <tr>\n",
              "      <th>16714</th>\n",
              "      <td>Samurai Warriors: Sanada Maru</td>\n",
              "      <td>PS3</td>\n",
              "      <td>2016.0</td>\n",
              "      <td>Action</td>\n",
              "      <td>Tecmo Koei</td>\n",
              "      <td>0.00</td>\n",
              "      <td>0.00</td>\n",
              "      <td>0.01</td>\n",
              "      <td>0.00</td>\n",
              "      <td>0.01</td>\n",
              "      <td>NaN</td>\n",
              "      <td>NaN</td>\n",
              "      <td>NaN</td>\n",
              "      <td>NaN</td>\n",
              "      <td>NaN</td>\n",
              "      <td>NaN</td>\n",
              "    </tr>\n",
              "    <tr>\n",
              "      <th>16715</th>\n",
              "      <td>LMA Manager 2007</td>\n",
              "      <td>X360</td>\n",
              "      <td>2006.0</td>\n",
              "      <td>Sports</td>\n",
              "      <td>Codemasters</td>\n",
              "      <td>0.00</td>\n",
              "      <td>0.01</td>\n",
              "      <td>0.00</td>\n",
              "      <td>0.00</td>\n",
              "      <td>0.01</td>\n",
              "      <td>NaN</td>\n",
              "      <td>NaN</td>\n",
              "      <td>NaN</td>\n",
              "      <td>NaN</td>\n",
              "      <td>NaN</td>\n",
              "      <td>NaN</td>\n",
              "    </tr>\n",
              "    <tr>\n",
              "      <th>16716</th>\n",
              "      <td>Haitaka no Psychedelica</td>\n",
              "      <td>PSV</td>\n",
              "      <td>2016.0</td>\n",
              "      <td>Adventure</td>\n",
              "      <td>Idea Factory</td>\n",
              "      <td>0.00</td>\n",
              "      <td>0.00</td>\n",
              "      <td>0.01</td>\n",
              "      <td>0.00</td>\n",
              "      <td>0.01</td>\n",
              "      <td>NaN</td>\n",
              "      <td>NaN</td>\n",
              "      <td>NaN</td>\n",
              "      <td>NaN</td>\n",
              "      <td>NaN</td>\n",
              "      <td>NaN</td>\n",
              "    </tr>\n",
              "    <tr>\n",
              "      <th>16717</th>\n",
              "      <td>Spirits &amp; Spells</td>\n",
              "      <td>GBA</td>\n",
              "      <td>2003.0</td>\n",
              "      <td>Platform</td>\n",
              "      <td>Wanadoo</td>\n",
              "      <td>0.01</td>\n",
              "      <td>0.00</td>\n",
              "      <td>0.00</td>\n",
              "      <td>0.00</td>\n",
              "      <td>0.01</td>\n",
              "      <td>NaN</td>\n",
              "      <td>NaN</td>\n",
              "      <td>NaN</td>\n",
              "      <td>NaN</td>\n",
              "      <td>NaN</td>\n",
              "      <td>NaN</td>\n",
              "    </tr>\n",
              "    <tr>\n",
              "      <th>16718</th>\n",
              "      <td>Winning Post 8 2016</td>\n",
              "      <td>PSV</td>\n",
              "      <td>2016.0</td>\n",
              "      <td>Simulation</td>\n",
              "      <td>Tecmo Koei</td>\n",
              "      <td>0.00</td>\n",
              "      <td>0.00</td>\n",
              "      <td>0.01</td>\n",
              "      <td>0.00</td>\n",
              "      <td>0.01</td>\n",
              "      <td>NaN</td>\n",
              "      <td>NaN</td>\n",
              "      <td>NaN</td>\n",
              "      <td>NaN</td>\n",
              "      <td>NaN</td>\n",
              "      <td>NaN</td>\n",
              "    </tr>\n",
              "  </tbody>\n",
              "</table>\n",
              "<p>16719 rows × 16 columns</p>\n",
              "</div>\n",
              "      <button class=\"colab-df-convert\" onclick=\"convertToInteractive('df-14d4fe63-f6ce-4e61-ba74-c1a784165a33')\"\n",
              "              title=\"Convert this dataframe to an interactive table.\"\n",
              "              style=\"display:none;\">\n",
              "        \n",
              "  <svg xmlns=\"http://www.w3.org/2000/svg\" height=\"24px\"viewBox=\"0 0 24 24\"\n",
              "       width=\"24px\">\n",
              "    <path d=\"M0 0h24v24H0V0z\" fill=\"none\"/>\n",
              "    <path d=\"M18.56 5.44l.94 2.06.94-2.06 2.06-.94-2.06-.94-.94-2.06-.94 2.06-2.06.94zm-11 1L8.5 8.5l.94-2.06 2.06-.94-2.06-.94L8.5 2.5l-.94 2.06-2.06.94zm10 10l.94 2.06.94-2.06 2.06-.94-2.06-.94-.94-2.06-.94 2.06-2.06.94z\"/><path d=\"M17.41 7.96l-1.37-1.37c-.4-.4-.92-.59-1.43-.59-.52 0-1.04.2-1.43.59L10.3 9.45l-7.72 7.72c-.78.78-.78 2.05 0 2.83L4 21.41c.39.39.9.59 1.41.59.51 0 1.02-.2 1.41-.59l7.78-7.78 2.81-2.81c.8-.78.8-2.07 0-2.86zM5.41 20L4 18.59l7.72-7.72 1.47 1.35L5.41 20z\"/>\n",
              "  </svg>\n",
              "      </button>\n",
              "      \n",
              "  <style>\n",
              "    .colab-df-container {\n",
              "      display:flex;\n",
              "      flex-wrap:wrap;\n",
              "      gap: 12px;\n",
              "    }\n",
              "\n",
              "    .colab-df-convert {\n",
              "      background-color: #E8F0FE;\n",
              "      border: none;\n",
              "      border-radius: 50%;\n",
              "      cursor: pointer;\n",
              "      display: none;\n",
              "      fill: #1967D2;\n",
              "      height: 32px;\n",
              "      padding: 0 0 0 0;\n",
              "      width: 32px;\n",
              "    }\n",
              "\n",
              "    .colab-df-convert:hover {\n",
              "      background-color: #E2EBFA;\n",
              "      box-shadow: 0px 1px 2px rgba(60, 64, 67, 0.3), 0px 1px 3px 1px rgba(60, 64, 67, 0.15);\n",
              "      fill: #174EA6;\n",
              "    }\n",
              "\n",
              "    [theme=dark] .colab-df-convert {\n",
              "      background-color: #3B4455;\n",
              "      fill: #D2E3FC;\n",
              "    }\n",
              "\n",
              "    [theme=dark] .colab-df-convert:hover {\n",
              "      background-color: #434B5C;\n",
              "      box-shadow: 0px 1px 3px 1px rgba(0, 0, 0, 0.15);\n",
              "      filter: drop-shadow(0px 1px 2px rgba(0, 0, 0, 0.3));\n",
              "      fill: #FFFFFF;\n",
              "    }\n",
              "  </style>\n",
              "\n",
              "      <script>\n",
              "        const buttonEl =\n",
              "          document.querySelector('#df-14d4fe63-f6ce-4e61-ba74-c1a784165a33 button.colab-df-convert');\n",
              "        buttonEl.style.display =\n",
              "          google.colab.kernel.accessAllowed ? 'block' : 'none';\n",
              "\n",
              "        async function convertToInteractive(key) {\n",
              "          const element = document.querySelector('#df-14d4fe63-f6ce-4e61-ba74-c1a784165a33');\n",
              "          const dataTable =\n",
              "            await google.colab.kernel.invokeFunction('convertToInteractive',\n",
              "                                                     [key], {});\n",
              "          if (!dataTable) return;\n",
              "\n",
              "          const docLinkHtml = 'Like what you see? Visit the ' +\n",
              "            '<a target=\"_blank\" href=https://colab.research.google.com/notebooks/data_table.ipynb>data table notebook</a>'\n",
              "            + ' to learn more about interactive tables.';\n",
              "          element.innerHTML = '';\n",
              "          dataTable['output_type'] = 'display_data';\n",
              "          await google.colab.output.renderOutput(dataTable, element);\n",
              "          const docLink = document.createElement('div');\n",
              "          docLink.innerHTML = docLinkHtml;\n",
              "          element.appendChild(docLink);\n",
              "        }\n",
              "      </script>\n",
              "    </div>\n",
              "  </div>\n",
              "  "
            ]
          },
          "metadata": {},
          "execution_count": 8
        }
      ]
    },
    {
      "cell_type": "code",
      "source": [
        "df.dtypes"
      ],
      "metadata": {
        "colab": {
          "base_uri": "https://localhost:8080/"
        },
        "id": "dbHV1NcloTRe",
        "outputId": "2a9ca3f7-a94e-4a2a-c20e-19c3fbcb5837"
      },
      "execution_count": null,
      "outputs": [
        {
          "output_type": "execute_result",
          "data": {
            "text/plain": [
              "Name                object\n",
              "Platform            object\n",
              "Year_of_Release    float64\n",
              "Genre               object\n",
              "Publisher           object\n",
              "NA_Sales           float64\n",
              "EU_Sales           float64\n",
              "JP_Sales           float64\n",
              "Other_Sales        float64\n",
              "Global_Sales       float64\n",
              "Critic_Score       float64\n",
              "Critic_Count       float64\n",
              "User_Score          object\n",
              "User_Count         float64\n",
              "Developer           object\n",
              "Rating              object\n",
              "dtype: object"
            ]
          },
          "metadata": {},
          "execution_count": 17
        }
      ]
    },
    {
      "cell_type": "code",
      "source": [
        "df.shape"
      ],
      "metadata": {
        "colab": {
          "base_uri": "https://localhost:8080/"
        },
        "id": "0D5iWZ-KoYwc",
        "outputId": "02171f78-afcd-4cb8-8e35-139f5e533f41"
      },
      "execution_count": null,
      "outputs": [
        {
          "output_type": "execute_result",
          "data": {
            "text/plain": [
              "(16719, 16)"
            ]
          },
          "metadata": {},
          "execution_count": 18
        }
      ]
    },
    {
      "cell_type": "markdown",
      "source": [
        "#Verificando se há colunas com valores unicos (não há)"
      ],
      "metadata": {
        "id": "lJuPxU-kyZXM"
      }
    },
    {
      "cell_type": "code",
      "source": [
        "df.User_Count.is_unique"
      ],
      "metadata": {
        "colab": {
          "base_uri": "https://localhost:8080/"
        },
        "id": "eUE6KRDyogUJ",
        "outputId": "f275baf6-f35c-4e6a-9c21-bf24b29698a8"
      },
      "execution_count": null,
      "outputs": [
        {
          "output_type": "execute_result",
          "data": {
            "text/plain": [
              "False"
            ]
          },
          "metadata": {},
          "execution_count": 61
        }
      ]
    },
    {
      "cell_type": "markdown",
      "source": [
        "#Guardando um backup"
      ],
      "metadata": {
        "id": "JkBKRYO_yTIr"
      }
    },
    {
      "cell_type": "code",
      "source": [
        "dfbackup = df.copy()"
      ],
      "metadata": {
        "id": "HrF5GXZKos2B"
      },
      "execution_count": null,
      "outputs": []
    },
    {
      "cell_type": "markdown",
      "source": [
        "#Traduzindo o nome das colunas para PT"
      ],
      "metadata": {
        "id": "z7mV5_q8yhh1"
      }
    },
    {
      "cell_type": "code",
      "source": [
        "df.rename(columns=\n",
        "          {'Name' : 'Nome',\n",
        "           'Platform' : 'Plataforma',\n",
        "           'Lancamento' : 'Ano_lancamento',\n",
        "           'Genre' : 'Genero',\n",
        "           'Publisher' : 'Editor',\n",
        "           'NA_Sales' : 'America_do_Norte_vendas',\n",
        "           'EU_Sales' : 'Europa_vendas',\n",
        "           'JP_Sales' : 'Japao_vendas',\n",
        "           'Other_Sales' : 'Outras_vendas',\n",
        "           'Global_Sales' : 'Vendas_globais',\n",
        "           'Critic_Score' : 'Nota_critica',\n",
        "           'Critic_Count' : 'Nota_contagem',\n",
        "           'User_Score' : 'Nota_do_usuario',\n",
        "           'User_Count' : 'Contagem_de_usuario',\n",
        "           'Developer' : 'Desenvolvido',\n",
        "           'Rating' : 'Avaliacao'\n",
        "           }, inplace=True)"
      ],
      "metadata": {
        "id": "M4tbWCLlo1zB"
      },
      "execution_count": null,
      "outputs": []
    },
    {
      "cell_type": "code",
      "source": [
        "pd.unique(df['Nota_do_usuario'])"
      ],
      "metadata": {
        "colab": {
          "base_uri": "https://localhost:8080/"
        },
        "id": "JF_wG36qtjRo",
        "outputId": "baf043aa-7c71-4ba4-e7fd-d51ad38d5c4f"
      },
      "execution_count": null,
      "outputs": [
        {
          "output_type": "execute_result",
          "data": {
            "text/plain": [
              "array(['8', nan, '8.3', '8.5', '6.6', '8.4', '8.6', '7.7', '6.3', '7.4',\n",
              "       '8.2', '9', '7.9', '8.1', '8.7', '7.1', '3.4', '5.3', '4.8', '3.2',\n",
              "       '8.9', '6.4', '7.8', '7.5', '2.6', '7.2', '9.2', '7', '7.3', '4.3',\n",
              "       '7.6', '5.7', '5', '9.1', '6.5', 'tbd', '8.8', '6.9', '9.4', '6.8',\n",
              "       '6.1', '6.7', '5.4', '4', '4.9', '4.5', '9.3', '6.2', '4.2', '6',\n",
              "       '3.7', '4.1', '5.8', '5.6', '5.5', '4.4', '4.6', '5.9', '3.9',\n",
              "       '3.1', '2.9', '5.2', '3.3', '4.7', '5.1', '3.5', '2.5', '1.9', '3',\n",
              "       '2.7', '2.2', '2', '9.5', '2.1', '3.6', '2.8', '1.8', '3.8', '0',\n",
              "       '1.6', '9.6', '2.4', '1.7', '1.1', '0.3', '1.5', '0.7', '1.2',\n",
              "       '2.3', '0.5', '1.3', '0.2', '0.6', '1.4', '0.9', '1', '9.7'],\n",
              "      dtype=object)"
            ]
          },
          "metadata": {},
          "execution_count": 56
        }
      ]
    },
    {
      "cell_type": "code",
      "source": [
        "df.isna().sum()"
      ],
      "metadata": {
        "colab": {
          "base_uri": "https://localhost:8080/"
        },
        "id": "3YeptfjgwxKt",
        "outputId": "93313e97-a34b-401c-b7b4-4ff0ffca5f8c"
      },
      "execution_count": null,
      "outputs": [
        {
          "output_type": "execute_result",
          "data": {
            "text/plain": [
              "Nome                          2\n",
              "Plataforma                    0\n",
              "Lancamento                  269\n",
              "Genero                        2\n",
              "Editor                       54\n",
              "America_do_Norte_vendas       0\n",
              "Europa_vendas                 0\n",
              "Japao_vendas                  0\n",
              "Outras_vendas                 0\n",
              "Vendas_globais                0\n",
              "Nota_critica               8582\n",
              "Nota_contagem              8582\n",
              "Nota_do_usuario            6704\n",
              "Contagem_de_usuario        9129\n",
              "Desenvolvido               6623\n",
              "Avaliacao                  6769\n",
              "dtype: int64"
            ]
          },
          "metadata": {},
          "execution_count": 37
        }
      ]
    },
    {
      "cell_type": "markdown",
      "source": [
        "#Tirando dados nulos da coluna nome"
      ],
      "metadata": {
        "id": "a5_U4tpjymLo"
      }
    },
    {
      "cell_type": "code",
      "source": [
        "df = df.dropna()"
      ],
      "metadata": {
        "id": "e-c8zPcq4p5q"
      },
      "execution_count": null,
      "outputs": []
    },
    {
      "cell_type": "code",
      "source": [
        "df['Nota_do_usuario'] = pd.to_numeric(df['Nota_do_usuario'], errors='coerce')"
      ],
      "metadata": {
        "id": "XSs8akuY6Hqv"
      },
      "execution_count": null,
      "outputs": []
    },
    {
      "cell_type": "code",
      "source": [
        "df.count()"
      ],
      "metadata": {
        "colab": {
          "base_uri": "https://localhost:8080/"
        },
        "id": "dFtGLbgvxQxM",
        "outputId": "8fac7cd0-ff43-44b0-dece-98158b193f47"
      },
      "execution_count": null,
      "outputs": [
        {
          "output_type": "execute_result",
          "data": {
            "text/plain": [
              "Nome                       6825\n",
              "Plataforma                 6825\n",
              "Year_of_Release            6825\n",
              "Genero                     6825\n",
              "Editor                     6825\n",
              "America_do_Norte_vendas    6825\n",
              "Europa_vendas              6825\n",
              "Japao_vendas               6825\n",
              "Outras_vendas              6825\n",
              "Vendas_globais             6825\n",
              "Nota_critica               6825\n",
              "Nota_contagem              6825\n",
              "Nota_do_usuario            6825\n",
              "Contagem_de_usuario        6825\n",
              "Desenvolvido               6825\n",
              "Avaliacao                  6825\n",
              "dtype: int64"
            ]
          },
          "metadata": {},
          "execution_count": 93
        }
      ]
    },
    {
      "cell_type": "markdown",
      "source": [
        "#Definindo Schema "
      ],
      "metadata": {
        "id": "UYD6Vqr9y056"
      }
    },
    {
      "cell_type": "code",
      "source": [
        "schema = pa.DataFrameSchema(\n",
        "    columns = {\n",
        "        'Nome' : pa.Column(pa.String),\n",
        "        'Plataforma' : pa.Column(pa.String),\n",
        "        'Ano_lancamento' : pa.Column(pa.Float),\n",
        "        'Genero' : pa.Column(pa.String),\n",
        "        'Editor' : pa.Column(pa.String),\n",
        "        'America_do_Norte_vendas' : pa.Column(pa.Float),\n",
        "        'Europa_vendas' : pa.Column(pa.Float),\n",
        "        'Japao_vendas' : pa.Column(pa.Float),\n",
        "        'Outras_vendas' : pa.Column(pa.Float),\n",
        "        'Vendas_globais' : pa.Column(pa.Float),\n",
        "        'Nota_critica' : pa.Column(pa.Float),\n",
        "        'Nota_contagem' : pa.Column(pa.Float),\n",
        "        'Nota_do_usuario' : pa.Column(pa.Float),\n",
        "        'Contagem_de_usuario' : pa.Column(pa.Int),\n",
        "        'Desenvolvido' : pa.Column(pa.String),\n",
        "        'Avaliacao' : pa.Column(pa.String)\n",
        "    }\n",
        ")"
      ],
      "metadata": {
        "id": "rQd3vZrUxYFA"
      },
      "execution_count": null,
      "outputs": []
    },
    {
      "cell_type": "code",
      "source": [
        "df.describe()"
      ],
      "metadata": {
        "colab": {
          "base_uri": "https://localhost:8080/",
          "height": 364
        },
        "id": "PXRLkXSh7HZS",
        "outputId": "8200d85f-ddd8-41da-dc95-4131ce11cf20"
      },
      "execution_count": null,
      "outputs": [
        {
          "output_type": "execute_result",
          "data": {
            "text/plain": [
              "       Year_of_Release  America_do_Norte_vendas  Europa_vendas  Japao_vendas  \\\n",
              "count      6825.000000              6825.000000    6825.000000   6825.000000   \n",
              "mean       2007.436777                 0.394484       0.236089      0.064158   \n",
              "std           4.211248                 0.967385       0.687330      0.287570   \n",
              "min        1985.000000                 0.000000       0.000000      0.000000   \n",
              "25%        2004.000000                 0.060000       0.020000      0.000000   \n",
              "50%        2007.000000                 0.150000       0.060000      0.000000   \n",
              "75%        2011.000000                 0.390000       0.210000      0.010000   \n",
              "max        2016.000000                41.360000      28.960000      6.500000   \n",
              "\n",
              "       Outras_vendas  Vendas_globais  Nota_critica  Nota_contagem  \\\n",
              "count    6825.000000     6825.000000   6825.000000    6825.000000   \n",
              "mean        0.082677        0.777590     70.272088      28.931136   \n",
              "std         0.269871        1.963443     13.868572      19.224165   \n",
              "min         0.000000        0.010000     13.000000       3.000000   \n",
              "25%         0.010000        0.110000     62.000000      14.000000   \n",
              "50%         0.020000        0.290000     72.000000      25.000000   \n",
              "75%         0.070000        0.750000     80.000000      39.000000   \n",
              "max        10.570000       82.530000     98.000000     113.000000   \n",
              "\n",
              "       Nota_do_usuario  Contagem_de_usuario  \n",
              "count      6825.000000          6825.000000  \n",
              "mean          7.185626           174.722344  \n",
              "std           1.439942           587.428538  \n",
              "min           0.500000             4.000000  \n",
              "25%           6.500000            11.000000  \n",
              "50%           7.500000            27.000000  \n",
              "75%           8.200000            89.000000  \n",
              "max           9.600000         10665.000000  "
            ],
            "text/html": [
              "\n",
              "  <div id=\"df-09054cdb-d213-410a-b143-5f57660d3854\">\n",
              "    <div class=\"colab-df-container\">\n",
              "      <div>\n",
              "<style scoped>\n",
              "    .dataframe tbody tr th:only-of-type {\n",
              "        vertical-align: middle;\n",
              "    }\n",
              "\n",
              "    .dataframe tbody tr th {\n",
              "        vertical-align: top;\n",
              "    }\n",
              "\n",
              "    .dataframe thead th {\n",
              "        text-align: right;\n",
              "    }\n",
              "</style>\n",
              "<table border=\"1\" class=\"dataframe\">\n",
              "  <thead>\n",
              "    <tr style=\"text-align: right;\">\n",
              "      <th></th>\n",
              "      <th>Year_of_Release</th>\n",
              "      <th>America_do_Norte_vendas</th>\n",
              "      <th>Europa_vendas</th>\n",
              "      <th>Japao_vendas</th>\n",
              "      <th>Outras_vendas</th>\n",
              "      <th>Vendas_globais</th>\n",
              "      <th>Nota_critica</th>\n",
              "      <th>Nota_contagem</th>\n",
              "      <th>Nota_do_usuario</th>\n",
              "      <th>Contagem_de_usuario</th>\n",
              "    </tr>\n",
              "  </thead>\n",
              "  <tbody>\n",
              "    <tr>\n",
              "      <th>count</th>\n",
              "      <td>6825.000000</td>\n",
              "      <td>6825.000000</td>\n",
              "      <td>6825.000000</td>\n",
              "      <td>6825.000000</td>\n",
              "      <td>6825.000000</td>\n",
              "      <td>6825.000000</td>\n",
              "      <td>6825.000000</td>\n",
              "      <td>6825.000000</td>\n",
              "      <td>6825.000000</td>\n",
              "      <td>6825.000000</td>\n",
              "    </tr>\n",
              "    <tr>\n",
              "      <th>mean</th>\n",
              "      <td>2007.436777</td>\n",
              "      <td>0.394484</td>\n",
              "      <td>0.236089</td>\n",
              "      <td>0.064158</td>\n",
              "      <td>0.082677</td>\n",
              "      <td>0.777590</td>\n",
              "      <td>70.272088</td>\n",
              "      <td>28.931136</td>\n",
              "      <td>7.185626</td>\n",
              "      <td>174.722344</td>\n",
              "    </tr>\n",
              "    <tr>\n",
              "      <th>std</th>\n",
              "      <td>4.211248</td>\n",
              "      <td>0.967385</td>\n",
              "      <td>0.687330</td>\n",
              "      <td>0.287570</td>\n",
              "      <td>0.269871</td>\n",
              "      <td>1.963443</td>\n",
              "      <td>13.868572</td>\n",
              "      <td>19.224165</td>\n",
              "      <td>1.439942</td>\n",
              "      <td>587.428538</td>\n",
              "    </tr>\n",
              "    <tr>\n",
              "      <th>min</th>\n",
              "      <td>1985.000000</td>\n",
              "      <td>0.000000</td>\n",
              "      <td>0.000000</td>\n",
              "      <td>0.000000</td>\n",
              "      <td>0.000000</td>\n",
              "      <td>0.010000</td>\n",
              "      <td>13.000000</td>\n",
              "      <td>3.000000</td>\n",
              "      <td>0.500000</td>\n",
              "      <td>4.000000</td>\n",
              "    </tr>\n",
              "    <tr>\n",
              "      <th>25%</th>\n",
              "      <td>2004.000000</td>\n",
              "      <td>0.060000</td>\n",
              "      <td>0.020000</td>\n",
              "      <td>0.000000</td>\n",
              "      <td>0.010000</td>\n",
              "      <td>0.110000</td>\n",
              "      <td>62.000000</td>\n",
              "      <td>14.000000</td>\n",
              "      <td>6.500000</td>\n",
              "      <td>11.000000</td>\n",
              "    </tr>\n",
              "    <tr>\n",
              "      <th>50%</th>\n",
              "      <td>2007.000000</td>\n",
              "      <td>0.150000</td>\n",
              "      <td>0.060000</td>\n",
              "      <td>0.000000</td>\n",
              "      <td>0.020000</td>\n",
              "      <td>0.290000</td>\n",
              "      <td>72.000000</td>\n",
              "      <td>25.000000</td>\n",
              "      <td>7.500000</td>\n",
              "      <td>27.000000</td>\n",
              "    </tr>\n",
              "    <tr>\n",
              "      <th>75%</th>\n",
              "      <td>2011.000000</td>\n",
              "      <td>0.390000</td>\n",
              "      <td>0.210000</td>\n",
              "      <td>0.010000</td>\n",
              "      <td>0.070000</td>\n",
              "      <td>0.750000</td>\n",
              "      <td>80.000000</td>\n",
              "      <td>39.000000</td>\n",
              "      <td>8.200000</td>\n",
              "      <td>89.000000</td>\n",
              "    </tr>\n",
              "    <tr>\n",
              "      <th>max</th>\n",
              "      <td>2016.000000</td>\n",
              "      <td>41.360000</td>\n",
              "      <td>28.960000</td>\n",
              "      <td>6.500000</td>\n",
              "      <td>10.570000</td>\n",
              "      <td>82.530000</td>\n",
              "      <td>98.000000</td>\n",
              "      <td>113.000000</td>\n",
              "      <td>9.600000</td>\n",
              "      <td>10665.000000</td>\n",
              "    </tr>\n",
              "  </tbody>\n",
              "</table>\n",
              "</div>\n",
              "      <button class=\"colab-df-convert\" onclick=\"convertToInteractive('df-09054cdb-d213-410a-b143-5f57660d3854')\"\n",
              "              title=\"Convert this dataframe to an interactive table.\"\n",
              "              style=\"display:none;\">\n",
              "        \n",
              "  <svg xmlns=\"http://www.w3.org/2000/svg\" height=\"24px\"viewBox=\"0 0 24 24\"\n",
              "       width=\"24px\">\n",
              "    <path d=\"M0 0h24v24H0V0z\" fill=\"none\"/>\n",
              "    <path d=\"M18.56 5.44l.94 2.06.94-2.06 2.06-.94-2.06-.94-.94-2.06-.94 2.06-2.06.94zm-11 1L8.5 8.5l.94-2.06 2.06-.94-2.06-.94L8.5 2.5l-.94 2.06-2.06.94zm10 10l.94 2.06.94-2.06 2.06-.94-2.06-.94-.94-2.06-.94 2.06-2.06.94z\"/><path d=\"M17.41 7.96l-1.37-1.37c-.4-.4-.92-.59-1.43-.59-.52 0-1.04.2-1.43.59L10.3 9.45l-7.72 7.72c-.78.78-.78 2.05 0 2.83L4 21.41c.39.39.9.59 1.41.59.51 0 1.02-.2 1.41-.59l7.78-7.78 2.81-2.81c.8-.78.8-2.07 0-2.86zM5.41 20L4 18.59l7.72-7.72 1.47 1.35L5.41 20z\"/>\n",
              "  </svg>\n",
              "      </button>\n",
              "      \n",
              "  <style>\n",
              "    .colab-df-container {\n",
              "      display:flex;\n",
              "      flex-wrap:wrap;\n",
              "      gap: 12px;\n",
              "    }\n",
              "\n",
              "    .colab-df-convert {\n",
              "      background-color: #E8F0FE;\n",
              "      border: none;\n",
              "      border-radius: 50%;\n",
              "      cursor: pointer;\n",
              "      display: none;\n",
              "      fill: #1967D2;\n",
              "      height: 32px;\n",
              "      padding: 0 0 0 0;\n",
              "      width: 32px;\n",
              "    }\n",
              "\n",
              "    .colab-df-convert:hover {\n",
              "      background-color: #E2EBFA;\n",
              "      box-shadow: 0px 1px 2px rgba(60, 64, 67, 0.3), 0px 1px 3px 1px rgba(60, 64, 67, 0.15);\n",
              "      fill: #174EA6;\n",
              "    }\n",
              "\n",
              "    [theme=dark] .colab-df-convert {\n",
              "      background-color: #3B4455;\n",
              "      fill: #D2E3FC;\n",
              "    }\n",
              "\n",
              "    [theme=dark] .colab-df-convert:hover {\n",
              "      background-color: #434B5C;\n",
              "      box-shadow: 0px 1px 3px 1px rgba(0, 0, 0, 0.15);\n",
              "      filter: drop-shadow(0px 1px 2px rgba(0, 0, 0, 0.3));\n",
              "      fill: #FFFFFF;\n",
              "    }\n",
              "  </style>\n",
              "\n",
              "      <script>\n",
              "        const buttonEl =\n",
              "          document.querySelector('#df-09054cdb-d213-410a-b143-5f57660d3854 button.colab-df-convert');\n",
              "        buttonEl.style.display =\n",
              "          google.colab.kernel.accessAllowed ? 'block' : 'none';\n",
              "\n",
              "        async function convertToInteractive(key) {\n",
              "          const element = document.querySelector('#df-09054cdb-d213-410a-b143-5f57660d3854');\n",
              "          const dataTable =\n",
              "            await google.colab.kernel.invokeFunction('convertToInteractive',\n",
              "                                                     [key], {});\n",
              "          if (!dataTable) return;\n",
              "\n",
              "          const docLinkHtml = 'Like what you see? Visit the ' +\n",
              "            '<a target=\"_blank\" href=https://colab.research.google.com/notebooks/data_table.ipynb>data table notebook</a>'\n",
              "            + ' to learn more about interactive tables.';\n",
              "          element.innerHTML = '';\n",
              "          dataTable['output_type'] = 'display_data';\n",
              "          await google.colab.output.renderOutput(dataTable, element);\n",
              "          const docLink = document.createElement('div');\n",
              "          docLink.innerHTML = docLinkHtml;\n",
              "          element.appendChild(docLink);\n",
              "        }\n",
              "      </script>\n",
              "    </div>\n",
              "  </div>\n",
              "  "
            ]
          },
          "metadata": {},
          "execution_count": 96
        }
      ]
    },
    {
      "cell_type": "markdown",
      "source": [
        "#Plotando gráfico dos 5 jogos mais vendidos globalmente"
      ],
      "metadata": {
        "id": "gyAIDTOYzCr_"
      }
    },
    {
      "cell_type": "code",
      "source": [
        "df_ordenado = df.sort_values(by='Vendas_globais', ascending=False)"
      ],
      "metadata": {
        "id": "TTBvKFZJbI3z"
      },
      "execution_count": null,
      "outputs": []
    },
    {
      "cell_type": "code",
      "source": [
        "top_5 = df_ordenado.head(5)\n"
      ],
      "metadata": {
        "id": "ZaM9KN3GcwOA"
      },
      "execution_count": null,
      "outputs": []
    },
    {
      "cell_type": "code",
      "source": [
        "top_5 = df[['Nome', 'Vendas_globais']].head()"
      ],
      "metadata": {
        "id": "4yUDfOnhc4ml"
      },
      "execution_count": null,
      "outputs": []
    },
    {
      "cell_type": "code",
      "source": [
        "top_5.plot(kind='bar', x='Nome', y='Vendas_globais', legend=False)\n",
        "plt.title('Top 5 jogos mais vendidos')\n",
        "plt.xlabel('Jogo')\n",
        "plt.ylabel('Vendas Globais (milhões)')\n",
        "plt.show()\n"
      ],
      "metadata": {
        "id": "jEO8JU8ddKgg",
        "colab": {
          "base_uri": "https://localhost:8080/",
          "height": 616
        },
        "outputId": "149978e6-8e50-4057-86cc-1659d139ef98"
      },
      "execution_count": null,
      "outputs": [
        {
          "output_type": "display_data",
          "data": {
            "text/plain": [
              "<Figure size 640x480 with 1 Axes>"
            ],
            "image/png": "[encoded data removed]"
          },
          "metadata": {}
        }
      ]
    },
    {
      "cell_type": "code",
      "source": [
        "df_ordenado2 = df.sort_values(by='Nota_critica', ascending=False)"
      ],
      "metadata": {
        "id": "PSnVfZ6blmbY"
      },
      "execution_count": null,
      "outputs": []
    },
    {
      "cell_type": "code",
      "source": [
        "top_10 = df[['Nome', 'Nota_critica']].head(10)\n",
        "top_10"
      ],
      "metadata": {
        "id": "rakNZG2smCaN",
        "colab": {
          "base_uri": "https://localhost:8080/",
          "height": 363
        },
        "outputId": "02936987-ac54-41f5-e6c4-8a752bcb3395"
      },
      "execution_count": null,
      "outputs": [
        {
          "output_type": "execute_result",
          "data": {
            "text/plain": [
              "                         Nome  Nota_critica\n",
              "0                  Wii Sports          76.0\n",
              "2              Mario Kart Wii          82.0\n",
              "3           Wii Sports Resort          80.0\n",
              "6       New Super Mario Bros.          89.0\n",
              "7                    Wii Play          58.0\n",
              "8   New Super Mario Bros. Wii          87.0\n",
              "11              Mario Kart DS          91.0\n",
              "13                    Wii Fit          80.0\n",
              "14         Kinect Adventures!          61.0\n",
              "15               Wii Fit Plus          80.0"
            ],
            "text/html": [
              "\n",
              "  <div id=\"df-fd0e950e-e0ec-4ba6-94f7-c197e7108de6\">\n",
              "    <div class=\"colab-df-container\">\n",
              "      <div>\n",
              "<style scoped>\n",
              "    .dataframe tbody tr th:only-of-type {\n",
              "        vertical-align: middle;\n",
              "    }\n",
              "\n",
              "    .dataframe tbody tr th {\n",
              "        vertical-align: top;\n",
              "    }\n",
              "\n",
              "    .dataframe thead th {\n",
              "        text-align: right;\n",
              "    }\n",
              "</style>\n",
              "<table border=\"1\" class=\"dataframe\">\n",
              "  <thead>\n",
              "    <tr style=\"text-align: right;\">\n",
              "      <th></th>\n",
              "      <th>Nome</th>\n",
              "      <th>Nota_critica</th>\n",
              "    </tr>\n",
              "  </thead>\n",
              "  <tbody>\n",
              "    <tr>\n",
              "      <th>0</th>\n",
              "      <td>Wii Sports</td>\n",
              "      <td>76.0</td>\n",
              "    </tr>\n",
              "    <tr>\n",
              "      <th>2</th>\n",
              "      <td>Mario Kart Wii</td>\n",
              "      <td>82.0</td>\n",
              "    </tr>\n",
              "    <tr>\n",
              "      <th>3</th>\n",
              "      <td>Wii Sports Resort</td>\n",
              "      <td>80.0</td>\n",
              "    </tr>\n",
              "    <tr>\n",
              "      <th>6</th>\n",
              "      <td>New Super Mario Bros.</td>\n",
              "      <td>89.0</td>\n",
              "    </tr>\n",
              "    <tr>\n",
              "      <th>7</th>\n",
              "      <td>Wii Play</td>\n",
              "      <td>58.0</td>\n",
              "    </tr>\n",
              "    <tr>\n",
              "      <th>8</th>\n",
              "      <td>New Super Mario Bros. Wii</td>\n",
              "      <td>87.0</td>\n",
              "    </tr>\n",
              "    <tr>\n",
              "      <th>11</th>\n",
              "      <td>Mario Kart DS</td>\n",
              "      <td>91.0</td>\n",
              "    </tr>\n",
              "    <tr>\n",
              "      <th>13</th>\n",
              "      <td>Wii Fit</td>\n",
              "      <td>80.0</td>\n",
              "    </tr>\n",
              "    <tr>\n",
              "      <th>14</th>\n",
              "      <td>Kinect Adventures!</td>\n",
              "      <td>61.0</td>\n",
              "    </tr>\n",
              "    <tr>\n",
              "      <th>15</th>\n",
              "      <td>Wii Fit Plus</td>\n",
              "      <td>80.0</td>\n",
              "    </tr>\n",
              "  </tbody>\n",
              "</table>\n",
              "</div>\n",
              "      <button class=\"colab-df-convert\" onclick=\"convertToInteractive('df-fd0e950e-e0ec-4ba6-94f7-c197e7108de6')\"\n",
              "              title=\"Convert this dataframe to an interactive table.\"\n",
              "              style=\"display:none;\">\n",
              "        \n",
              "  <svg xmlns=\"http://www.w3.org/2000/svg\" height=\"24px\"viewBox=\"0 0 24 24\"\n",
              "       width=\"24px\">\n",
              "    <path d=\"M0 0h24v24H0V0z\" fill=\"none\"/>\n",
              "    <path d=\"M18.56 5.44l.94 2.06.94-2.06 2.06-.94-2.06-.94-.94-2.06-.94 2.06-2.06.94zm-11 1L8.5 8.5l.94-2.06 2.06-.94-2.06-.94L8.5 2.5l-.94 2.06-2.06.94zm10 10l.94 2.06.94-2.06 2.06-.94-2.06-.94-.94-2.06-.94 2.06-2.06.94z\"/><path d=\"M17.41 7.96l-1.37-1.37c-.4-.4-.92-.59-1.43-.59-.52 0-1.04.2-1.43.59L10.3 9.45l-7.72 7.72c-.78.78-.78 2.05 0 2.83L4 21.41c.39.39.9.59 1.41.59.51 0 1.02-.2 1.41-.59l7.78-7.78 2.81-2.81c.8-.78.8-2.07 0-2.86zM5.41 20L4 18.59l7.72-7.72 1.47 1.35L5.41 20z\"/>\n",
              "  </svg>\n",
              "      </button>\n",
              "      \n",
              "  <style>\n",
              "    .colab-df-container {\n",
              "      display:flex;\n",
              "      flex-wrap:wrap;\n",
              "      gap: 12px;\n",
              "    }\n",
              "\n",
              "    .colab-df-convert {\n",
              "      background-color: #E8F0FE;\n",
              "      border: none;\n",
              "      border-radius: 50%;\n",
              "      cursor: pointer;\n",
              "      display: none;\n",
              "      fill: #1967D2;\n",
              "      height: 32px;\n",
              "      padding: 0 0 0 0;\n",
              "      width: 32px;\n",
              "    }\n",
              "\n",
              "    .colab-df-convert:hover {\n",
              "      background-color: #E2EBFA;\n",
              "      box-shadow: 0px 1px 2px rgba(60, 64, 67, 0.3), 0px 1px 3px 1px rgba(60, 64, 67, 0.15);\n",
              "      fill: #174EA6;\n",
              "    }\n",
              "\n",
              "    [theme=dark] .colab-df-convert {\n",
              "      background-color: #3B4455;\n",
              "      fill: #D2E3FC;\n",
              "    }\n",
              "\n",
              "    [theme=dark] .colab-df-convert:hover {\n",
              "      background-color: #434B5C;\n",
              "      box-shadow: 0px 1px 3px 1px rgba(0, 0, 0, 0.15);\n",
              "      filter: drop-shadow(0px 1px 2px rgba(0, 0, 0, 0.3));\n",
              "      fill: #FFFFFF;\n",
              "    }\n",
              "  </style>\n",
              "\n",
              "      <script>\n",
              "        const buttonEl =\n",
              "          document.querySelector('#df-fd0e950e-e0ec-4ba6-94f7-c197e7108de6 button.colab-df-convert');\n",
              "        buttonEl.style.display =\n",
              "          google.colab.kernel.accessAllowed ? 'block' : 'none';\n",
              "\n",
              "        async function convertToInteractive(key) {\n",
              "          const element = document.querySelector('#df-fd0e950e-e0ec-4ba6-94f7-c197e7108de6');\n",
              "          const dataTable =\n",
              "            await google.colab.kernel.invokeFunction('convertToInteractive',\n",
              "                                                     [key], {});\n",
              "          if (!dataTable) return;\n",
              "\n",
              "          const docLinkHtml = 'Like what you see? Visit the ' +\n",
              "            '<a target=\"_blank\" href=https://colab.research.google.com/notebooks/data_table.ipynb>data table notebook</a>'\n",
              "            + ' to learn more about interactive tables.';\n",
              "          element.innerHTML = '';\n",
              "          dataTable['output_type'] = 'display_data';\n",
              "          await google.colab.output.renderOutput(dataTable, element);\n",
              "          const docLink = document.createElement('div');\n",
              "          docLink.innerHTML = docLinkHtml;\n",
              "          element.appendChild(docLink);\n",
              "        }\n",
              "      </script>\n",
              "    </div>\n",
              "  </div>\n",
              "  "
            ]
          },
          "metadata": {},
          "execution_count": 102
        }
      ]
    },
    {
      "cell_type": "code",
      "source": [
        "top_10.plot(kind='bar', x='Nome', y='Nota_critica', legend=False)\n",
        "plt.title('Top 5 jogos mais bem avaliados')\n",
        "plt.xlabel('Jogo')\n",
        "plt.ylabel('Nota da crítica')\n",
        "plt.show()\n"
      ],
      "metadata": {
        "colab": {
          "base_uri": "https://localhost:8080/",
          "height": 641
        },
        "id": "3wXnBMv8mGm3",
        "outputId": "7b8e3074-39ee-4842-ab1d-6ebaa99b082f"
      },
      "execution_count": null,
      "outputs": [
        {
          "output_type": "display_data",
          "data": {
            "text/plain": [
              "<Figure size 640x480 with 1 Axes>"
            ],
            "image/png": "[encoded data removed]"
          },
          "metadata": {}
        }
      ]
    },
    {
      "cell_type": "markdown",
      "source": [
        "#Enviando dataset para a pasta de tratados no bucket Cloud Storage"
      ],
      "metadata": {
        "id": "gDh07M0y1fvF"
      }
    },
    {
      "cell_type": "code",
      "source": [
        "df.to_csv('gs://michelmarighetti/tratados/Video_Games_Sales_as_at_22_Dec_2016.csv', index=False)"
      ],
      "metadata": {
        "id": "niO5OR_O1aUm"
      },
      "execution_count": null,
      "outputs": []
    },
    {
      "cell_type": "markdown",
      "source": [
        "#Criando uma db e uma colecao para o dataset no MongoDB"
      ],
      "metadata": {
        "id": "Or8ffm6R3x68"
      }
    },
    {
      "cell_type": "code",
      "source": [
        "db = client['Vendas_Games']\n",
        "colecao = db['Vendas_Games_2016']"
      ],
      "metadata": {
        "id": "-AEB9Jha3voM"
      },
      "execution_count": null,
      "outputs": []
    },
    {
      "cell_type": "code",
      "source": [
        "df_dict = df.to_dict(\"records\")\n",
        "colecao.insert_many(df_dict)"
      ],
      "metadata": {
        "colab": {
          "base_uri": "https://localhost:8080/"
        },
        "id": "LthSiIMz4RBB",
        "outputId": "76aae22e-12f0-4913-9fc5-25026fcb710a"
      },
      "execution_count": null,
      "outputs": [
        {
          "output_type": "execute_result",
          "data": {
            "text/plain": [
              "<pymongo.results.InsertManyResult at 0x7fc850c8cd00>"
            ]
          },
          "metadata": {},
          "execution_count": 112
        }
      ]
    }
  ]
}